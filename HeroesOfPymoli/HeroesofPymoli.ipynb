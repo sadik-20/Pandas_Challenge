{
 "cells": [
  {
   "cell_type": "code",
   "execution_count": 1,
   "metadata": {},
   "outputs": [
    {
     "data": {
      "text/html": [
       "<div>\n",
       "<style scoped>\n",
       "    .dataframe tbody tr th:only-of-type {\n",
       "        vertical-align: middle;\n",
       "    }\n",
       "\n",
       "    .dataframe tbody tr th {\n",
       "        vertical-align: top;\n",
       "    }\n",
       "\n",
       "    .dataframe thead th {\n",
       "        text-align: right;\n",
       "    }\n",
       "</style>\n",
       "<table border=\"1\" class=\"dataframe\">\n",
       "  <thead>\n",
       "    <tr style=\"text-align: right;\">\n",
       "      <th></th>\n",
       "      <th>Purchase ID</th>\n",
       "      <th>SN</th>\n",
       "      <th>Age</th>\n",
       "      <th>Gender</th>\n",
       "      <th>Item ID</th>\n",
       "      <th>Item Name</th>\n",
       "      <th>Price</th>\n",
       "    </tr>\n",
       "  </thead>\n",
       "  <tbody>\n",
       "    <tr>\n",
       "      <th>0</th>\n",
       "      <td>0</td>\n",
       "      <td>Lisim78</td>\n",
       "      <td>20</td>\n",
       "      <td>Male</td>\n",
       "      <td>108</td>\n",
       "      <td>Extraction, Quickblade Of Trembling Hands</td>\n",
       "      <td>3.53</td>\n",
       "    </tr>\n",
       "    <tr>\n",
       "      <th>1</th>\n",
       "      <td>1</td>\n",
       "      <td>Lisovynya38</td>\n",
       "      <td>40</td>\n",
       "      <td>Male</td>\n",
       "      <td>143</td>\n",
       "      <td>Frenzied Scimitar</td>\n",
       "      <td>1.56</td>\n",
       "    </tr>\n",
       "    <tr>\n",
       "      <th>2</th>\n",
       "      <td>2</td>\n",
       "      <td>Ithergue48</td>\n",
       "      <td>24</td>\n",
       "      <td>Male</td>\n",
       "      <td>92</td>\n",
       "      <td>Final Critic</td>\n",
       "      <td>4.88</td>\n",
       "    </tr>\n",
       "    <tr>\n",
       "      <th>3</th>\n",
       "      <td>3</td>\n",
       "      <td>Chamassasya86</td>\n",
       "      <td>24</td>\n",
       "      <td>Male</td>\n",
       "      <td>100</td>\n",
       "      <td>Blindscythe</td>\n",
       "      <td>3.27</td>\n",
       "    </tr>\n",
       "    <tr>\n",
       "      <th>4</th>\n",
       "      <td>4</td>\n",
       "      <td>Iskosia90</td>\n",
       "      <td>23</td>\n",
       "      <td>Male</td>\n",
       "      <td>131</td>\n",
       "      <td>Fury</td>\n",
       "      <td>1.44</td>\n",
       "    </tr>\n",
       "  </tbody>\n",
       "</table>\n",
       "</div>"
      ],
      "text/plain": [
       "   Purchase ID             SN  Age Gender  Item ID  \\\n",
       "0            0        Lisim78   20   Male      108   \n",
       "1            1    Lisovynya38   40   Male      143   \n",
       "2            2     Ithergue48   24   Male       92   \n",
       "3            3  Chamassasya86   24   Male      100   \n",
       "4            4      Iskosia90   23   Male      131   \n",
       "\n",
       "                                   Item Name  Price  \n",
       "0  Extraction, Quickblade Of Trembling Hands   3.53  \n",
       "1                          Frenzied Scimitar   1.56  \n",
       "2                               Final Critic   4.88  \n",
       "3                                Blindscythe   3.27  \n",
       "4                                       Fury   1.44  "
      ]
     },
     "execution_count": 1,
     "metadata": {},
     "output_type": "execute_result"
    }
   ],
   "source": [
    "# Dependencies and Setup\n",
    "import pandas as pd\n",
    "\n",
    "# File to Load (Remember to Change These)\n",
    "purchase_data = \"purchase_data.csv\"\n",
    "\n",
    "# Read Purchasing File and store into Pandas data frame\n",
    "purchase_data_df = pd.read_csv(purchase_data)\n",
    "purchase_data_df.head()"
   ]
  },
  {
   "cell_type": "code",
   "execution_count": 2,
   "metadata": {},
   "outputs": [
    {
     "data": {
      "text/html": [
       "<div>\n",
       "<style scoped>\n",
       "    .dataframe tbody tr th:only-of-type {\n",
       "        vertical-align: middle;\n",
       "    }\n",
       "\n",
       "    .dataframe tbody tr th {\n",
       "        vertical-align: top;\n",
       "    }\n",
       "\n",
       "    .dataframe thead th {\n",
       "        text-align: right;\n",
       "    }\n",
       "</style>\n",
       "<table border=\"1\" class=\"dataframe\">\n",
       "  <thead>\n",
       "    <tr style=\"text-align: right;\">\n",
       "      <th></th>\n",
       "      <th>Total Players</th>\n",
       "    </tr>\n",
       "  </thead>\n",
       "  <tbody>\n",
       "    <tr>\n",
       "      <th>0</th>\n",
       "      <td>576</td>\n",
       "    </tr>\n",
       "  </tbody>\n",
       "</table>\n",
       "</div>"
      ],
      "text/plain": [
       "   Total Players\n",
       "0            576"
      ]
     },
     "execution_count": 2,
     "metadata": {},
     "output_type": "execute_result"
    }
   ],
   "source": [
    "#total number of Players\n",
    "Total_Players = len(purchase_data_df[\"SN\"].unique())\n",
    "Total_Players_df = pd.DataFrame({\"Total Players\": [Total_Players]})\n",
    "Total_Players_df.head()"
   ]
  },
  {
   "cell_type": "code",
   "execution_count": 3,
   "metadata": {},
   "outputs": [],
   "source": [
    "#total number of unique items\n",
    "total_num_unique_items = len(purchase_data_df[\"Item ID\"].unique())\n",
    "#the Average price\n",
    "Average_price = purchase_data_df[\"Price\"].mean()\n",
    "#pd.options.display.float_format='${:,2f}'.format\n",
    "#Average_price=pd.options.display.float_format\n",
    "#total number of purchase\n",
    "number_purchase= len(purchase_data_df[\"Purchase ID\"].unique())\n",
    "#total revenue\n",
    "total_revenue= purchase_data_df[\"Price\"].sum()\n"
   ]
  },
  {
   "cell_type": "code",
   "execution_count": 4,
   "metadata": {},
   "outputs": [
    {
     "data": {
      "text/html": [
       "<style  type=\"text/css\" >\n",
       "</style><table id=\"T_7e48271c_0fe5_11eb_a91d_acbc32c1ec19\" ><thead>    <tr>        <th class=\"blank level0\" ></th>        <th class=\"col_heading level0 col0\" >Number or Unique Items</th>        <th class=\"col_heading level0 col1\" >Average Price</th>        <th class=\"col_heading level0 col2\" >Number of Purchase</th>        <th class=\"col_heading level0 col3\" >Total Revenue</th>    </tr></thead><tbody>\n",
       "                <tr>\n",
       "                        <th id=\"T_7e48271c_0fe5_11eb_a91d_acbc32c1ec19level0_row0\" class=\"row_heading level0 row0\" >0</th>\n",
       "                        <td id=\"T_7e48271c_0fe5_11eb_a91d_acbc32c1ec19row0_col0\" class=\"data row0 col0\" >179</td>\n",
       "                        <td id=\"T_7e48271c_0fe5_11eb_a91d_acbc32c1ec19row0_col1\" class=\"data row0 col1\" >$3.05</td>\n",
       "                        <td id=\"T_7e48271c_0fe5_11eb_a91d_acbc32c1ec19row0_col2\" class=\"data row0 col2\" >780</td>\n",
       "                        <td id=\"T_7e48271c_0fe5_11eb_a91d_acbc32c1ec19row0_col3\" class=\"data row0 col3\" >$2,379.77</td>\n",
       "            </tr>\n",
       "    </tbody></table>"
      ],
      "text/plain": [
       "<pandas.io.formats.style.Styler at 0x7fa52daef730>"
      ]
     },
     "execution_count": 4,
     "metadata": {},
     "output_type": "execute_result"
    }
   ],
   "source": [
    "summary_df=pd.DataFrame({\"Number or Unique Items\":[total_num_unique_items],\"Average Price\":[Average_price],\n",
    "                        \"Number of Purchase\":[number_purchase],\"Total Revenue\":[total_revenue]})\n",
    "\n",
    "summary_df.style.format({'Average Price':\"${:,.2f}\",\n",
    "                         'Total Revenue': '${:,.2f}'})"
   ]
  },
  {
   "cell_type": "code",
   "execution_count": 5,
   "metadata": {},
   "outputs": [
    {
     "data": {
      "text/html": [
       "<div>\n",
       "<style scoped>\n",
       "    .dataframe tbody tr th:only-of-type {\n",
       "        vertical-align: middle;\n",
       "    }\n",
       "\n",
       "    .dataframe tbody tr th {\n",
       "        vertical-align: top;\n",
       "    }\n",
       "\n",
       "    .dataframe thead th {\n",
       "        text-align: right;\n",
       "    }\n",
       "</style>\n",
       "<table border=\"1\" class=\"dataframe\">\n",
       "  <thead>\n",
       "    <tr style=\"text-align: right;\">\n",
       "      <th></th>\n",
       "      <th>Total count</th>\n",
       "      <th>Players Percentage</th>\n",
       "    </tr>\n",
       "  </thead>\n",
       "  <tbody>\n",
       "    <tr>\n",
       "      <th>Male</th>\n",
       "      <td>484</td>\n",
       "      <td>84.03%</td>\n",
       "    </tr>\n",
       "    <tr>\n",
       "      <th>Female</th>\n",
       "      <td>81</td>\n",
       "      <td>14.06%</td>\n",
       "    </tr>\n",
       "    <tr>\n",
       "      <th>Other / Non-Disclosed</th>\n",
       "      <td>11</td>\n",
       "      <td>1.91%</td>\n",
       "    </tr>\n",
       "  </tbody>\n",
       "</table>\n",
       "</div>"
      ],
      "text/plain": [
       "                       Total count Players Percentage\n",
       "Male                           484             84.03%\n",
       "Female                          81             14.06%\n",
       "Other / Non-Disclosed           11              1.91%"
      ]
     },
     "execution_count": 5,
     "metadata": {},
     "output_type": "execute_result"
    }
   ],
   "source": [
    "Gender_grouped = purchase_data_df.groupby(\"Gender\")\n",
    "total_count_gender = Gender_grouped.nunique()[\"SN\"]\n",
    "Percentage= (total_count_gender/Total_Players *100).round(2).astype(str) + '%'\n",
    "summary_df=pd.DataFrame({\"Total count\":total_count_gender,\"Players Percentage\":Percentage})\n",
    "summary_df.index.name = None\n",
    "summary_df.sort_values([\"Total count\"], ascending = False)\n",
    "\n"
   ]
  },
  {
   "cell_type": "code",
   "execution_count": 7,
   "metadata": {},
   "outputs": [
    {
     "data": {
      "text/html": [
       "<style  type=\"text/css\" >\n",
       "</style><table id=\"T_a7913370_0fe5_11eb_a91d_acbc32c1ec19\" ><thead>    <tr>        <th class=\"blank level0\" ></th>        <th class=\"col_heading level0 col0\" >Purchase Count</th>        <th class=\"col_heading level0 col1\" >Avg. Purchase Price</th>        <th class=\"col_heading level0 col2\" >Total Purchase</th>        <th class=\"col_heading level0 col3\" >Total avg. Purchase Per Person</th>    </tr></thead><tbody>\n",
       "                <tr>\n",
       "                        <th id=\"T_a7913370_0fe5_11eb_a91d_acbc32c1ec19level0_row0\" class=\"row_heading level0 row0\" >Male</th>\n",
       "                        <td id=\"T_a7913370_0fe5_11eb_a91d_acbc32c1ec19row0_col0\" class=\"data row0 col0\" >652</td>\n",
       "                        <td id=\"T_a7913370_0fe5_11eb_a91d_acbc32c1ec19row0_col1\" class=\"data row0 col1\" >$3.02</td>\n",
       "                        <td id=\"T_a7913370_0fe5_11eb_a91d_acbc32c1ec19row0_col2\" class=\"data row0 col2\" >$1,967.64</td>\n",
       "                        <td id=\"T_a7913370_0fe5_11eb_a91d_acbc32c1ec19row0_col3\" class=\"data row0 col3\" >$4.07</td>\n",
       "            </tr>\n",
       "            <tr>\n",
       "                        <th id=\"T_a7913370_0fe5_11eb_a91d_acbc32c1ec19level0_row1\" class=\"row_heading level0 row1\" >Female</th>\n",
       "                        <td id=\"T_a7913370_0fe5_11eb_a91d_acbc32c1ec19row1_col0\" class=\"data row1 col0\" >113</td>\n",
       "                        <td id=\"T_a7913370_0fe5_11eb_a91d_acbc32c1ec19row1_col1\" class=\"data row1 col1\" >$3.20</td>\n",
       "                        <td id=\"T_a7913370_0fe5_11eb_a91d_acbc32c1ec19row1_col2\" class=\"data row1 col2\" >$361.94</td>\n",
       "                        <td id=\"T_a7913370_0fe5_11eb_a91d_acbc32c1ec19row1_col3\" class=\"data row1 col3\" >$4.47</td>\n",
       "            </tr>\n",
       "            <tr>\n",
       "                        <th id=\"T_a7913370_0fe5_11eb_a91d_acbc32c1ec19level0_row2\" class=\"row_heading level0 row2\" >Other / Non-Disclosed</th>\n",
       "                        <td id=\"T_a7913370_0fe5_11eb_a91d_acbc32c1ec19row2_col0\" class=\"data row2 col0\" >15</td>\n",
       "                        <td id=\"T_a7913370_0fe5_11eb_a91d_acbc32c1ec19row2_col1\" class=\"data row2 col1\" >$3.35</td>\n",
       "                        <td id=\"T_a7913370_0fe5_11eb_a91d_acbc32c1ec19row2_col2\" class=\"data row2 col2\" >$50.19</td>\n",
       "                        <td id=\"T_a7913370_0fe5_11eb_a91d_acbc32c1ec19row2_col3\" class=\"data row2 col3\" >$4.56</td>\n",
       "            </tr>\n",
       "    </tbody></table>"
      ],
      "text/plain": [
       "<pandas.io.formats.style.Styler at 0x7fa52ee8c190>"
      ]
     },
     "execution_count": 7,
     "metadata": {},
     "output_type": "execute_result"
    }
   ],
   "source": [
    "# Create a group based on the values in the 'Gender' column and do Gender analysis\n",
    "Gender_grouped = purchase_data_df.groupby(\"Gender\")\n",
    "purchase_count = Gender_grouped[\"SN\"].count()\n",
    "average_price  = Gender_grouped.mean()[\"Price\"]\n",
    "total_purchase = purchase_count * average_price\n",
    "average_total_per_person=total_purchase/total_count_gender\n",
    "Gender_purchase_analysis_df=pd.DataFrame({\"Purchase Count\":purchase_count,\"Avg. Purchase Price\":average_price,\"Total Purchase\":total_purchase,\"Total avg. Purchase Per Person\":average_total_per_person})\n",
    "Gender_purchase_analysis_df.index.name=None\n",
    "#Gender_purchase_analysis_df.sort_values([\"Purchase Count\"], ascending = False)\n",
    "Gender_purchase_analysis_df.sort_values([\"Purchase Count\"], ascending = False).style.format({'Avg. Purchase Price':\"${:,.2f}\",\n",
    "                         'Total Purchase': '${:,.2f}','Total avg. Purchase Per Person':'${:,.2f}'})\n"
   ]
  },
  {
   "cell_type": "code",
   "execution_count": null,
   "metadata": {},
   "outputs": [],
   "source": []
  },
  {
   "cell_type": "code",
   "execution_count": null,
   "metadata": {},
   "outputs": [],
   "source": []
  }
 ],
 "metadata": {
  "kernelspec": {
   "display_name": "Python 3",
   "language": "python",
   "name": "python3"
  },
  "language_info": {
   "codemirror_mode": {
    "name": "ipython",
    "version": 3
   },
   "file_extension": ".py",
   "mimetype": "text/x-python",
   "name": "python",
   "nbconvert_exporter": "python",
   "pygments_lexer": "ipython3",
   "version": "3.8.3"
  }
 },
 "nbformat": 4,
 "nbformat_minor": 4
}
